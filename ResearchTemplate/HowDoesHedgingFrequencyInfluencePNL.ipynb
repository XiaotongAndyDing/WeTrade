{
 "cells": [
  {
   "cell_type": "code",
   "execution_count": 1,
   "metadata": {
    "collapsed": true
   },
   "outputs": [],
   "source": [
    "import sys\n",
    "import os\n",
    "import numpy as np\n",
    "import pandas as pd\n",
    "import matplotlib.pyplot as plt\n",
    "import copy\n",
    "\n",
    "module_path = os.path.abspath(os.path.join('..'))\n",
    "\n",
    "if module_path not in sys.path:\n",
    "    sys.path.append(module_path+\"\\\\Source\")\n",
    "\n",
    "from Source.Agent import Agent, DeltaHedger\n",
    "from Source.Market import Market, StockGeometricBrownianMotion, EuropeanCallOption"
   ]
  },
  {
   "cell_type": "markdown",
   "metadata": {},
   "source": [
    "In this notebook, we will research how hedging frequency influences the variance of PnL."
   ]
  },
  {
   "cell_type": "markdown",
   "metadata": {},
   "source": [
    "We create a Martingale GBM. We verify the process is a martingale by Monte Carlo Simulation. The initial stock price is 100, and we expect the average of stocks price  is  100 at T=100. We simulate 10000 times and calculate the average."
   ]
  },
  {
   "cell_type": "code",
   "execution_count": 2,
   "metadata": {},
   "outputs": [
    {
     "name": "stdout",
     "output_type": "stream",
     "text": [
      "Mean of stock final values: 100.053\nStd of stock final values: 12.476\n"
     ]
    }
   ],
   "source": [
    "final_stock_price_list = []\n",
    "for _ in range(10000):\n",
    "    stock = StockGeometricBrownianMotion('stock_gbm', 100, -0.02/252, 0.2 / np.sqrt(252))  # Martingale GBM\n",
    "    for time in range(1, 100):\n",
    "        stock.evolve(time)\n",
    "    final_stock_price_list.append(stock.current_value)\n",
    "print(f'Mean of stock final values: {np.mean(final_stock_price_list):.3f}')\n",
    "print(f'Std of stock final values: {np.std(final_stock_price_list):.3f}')"
   ]
  },
  {
   "cell_type": "markdown",
   "metadata": {},
   "source": [
    "Suppose the stock price follows a Martingale GBM process with annual volatility 20%. An option trader holds 10 ATM options with one week expiry. The trader decides to delta hedge her option positions everyday. We will use this example to illustrate her delta hedging process."
   ]
  },
  {
   "cell_type": "code",
   "execution_count": 3,
   "metadata": {},
   "outputs": [
    {
     "name": "stdout",
     "output_type": "stream",
     "text": [
      "\nTime= 0\nAgent: sell 5.0 stock_gbm, Cash + $500.000\nAgent, Holding:\nCash: $10500.000\nstock_gbm: -5.0 * $100.000 = $-500.000\noption: 10 * $1.124 = $11.239\nTotal: $10011.239\n\nTime= 1\nAgent, Holding:\nCash: $10500.000\nstock_gbm: -5.0 * $100.720 = $-503.599\noption: 10 * $1.409 = $14.094\nTotal: $10010.494\nAgent: sell 1.0 stock_gbm, Cash + $100.720\n\nTime= 2\nAgent, Holding:\nCash: $10600.720\nstock_gbm: -6.0 * $101.619 = $-609.712\noption: 10 * $1.914 = $19.143\nTotal: $10010.151\nAgent: sell 2.0 stock_gbm, Cash + $203.237\n\nTime= 3\nAgent, Holding:\nCash: $10803.957\nstock_gbm: -8.0 * $103.296 = $-826.365\noption: 10 * $3.320 = $33.202\nTotal: $10010.794\nAgent: sell 2.0 stock_gbm, Cash + $206.591\n\nTime= 4\nAgent, Holding:\nCash: $11010.548\nstock_gbm: -10.0 * $101.417 = $-1014.172\noption: 10 * $1.501 = $15.014\nTotal: $10011.390\nAgent: buy 1.0 stock_gbm, Cash - $101.417\n\nTime= 5\nAgent, Holding:\nCash: $10909.131\nstock_gbm: -9.0 * $103.337 = $-930.034\noption: 10 * $3.337 = $33.371\nTotal: $10012.468\nAgent: buy 9.0 stock_gbm, Cash - $930.034\n\nTime= 6\nAgent, Holding:\nCash: $9979.097\nstock_gbm: 0.0 * $103.926 = $0.000\noption: 10 * $3.337 = $33.371\nTotal: $10012.468\n\nEnd of Hedging\nAgent, Holding:\nCash: $9979.097\nstock_gbm: 0.0 * $103.926 = $0.000\noption: 10 * $3.337 = $33.371\nTotal: $10012.468\n\nCumulative PnL: $1.230\n"
     ]
    }
   ],
   "source": [
    "stock = StockGeometricBrownianMotion('stock_gbm', 100, -0.02 / 252, 0.2 / np.sqrt(252))\n",
    "option = EuropeanCallOption('option', [stock], 100, 5)\n",
    "market = Market([stock, option])\n",
    "\n",
    "delta_hedging_initial_asset = {'Cash': 10000, 'stock_gbm': 0, 'option': 10}  # agent holds an option\n",
    "delta_hedging_trader = DeltaHedger('Agent', delta_hedging_initial_asset)\n",
    "\n",
    "# set up initial hedging\n",
    "print('\\nTime=', 0)\n",
    "market.mark_current_value_to_record(0)\n",
    "delta_hedging_trader.generate_delta_hedging_plans(market)\n",
    "delta_hedging_trader.trade(market, 0, print_log=True)\n",
    "delta_hedging_trader.evaluate_holding_asset_values(market, print_log=True)\n",
    "delta_hedging_trader.generate_performance_report(market, 0)\n",
    "\n",
    "for time in range(1, 7):\n",
    "    print('\\nTime=', time)\n",
    "    market.evolve(time)\n",
    "    market.mark_current_value_to_record(time)\n",
    "    delta_hedging_trader.evaluate_holding_asset_values(market, print_log=True)\n",
    "    delta_hedging_trader.generate_performance_report(market, time)\n",
    "    delta_hedging_trader.generate_delta_hedging_plans(market)\n",
    "    delta_hedging_trader.trade(market, time, print_log=True)\n",
    "\n",
    "print('\\nEnd of Hedging')\n",
    "delta_hedging_trader.evaluate_holding_asset_values(market, print_log=True)\n",
    "print(f'\\nCumulative PnL: ${delta_hedging_trader.historical_performance[5].cumulative_pnl:.3f}')"
   ]
  },
  {
   "cell_type": "markdown",
   "metadata": {},
   "source": [
    "We compare the pnl differences between 3 delta hedging strategy to hedge a 10 days ATM option:\n",
    "1. Daily delta hedging\n",
    "2. Only initial hedging\n",
    "3. No delta hedging"
   ]
  },
  {
   "cell_type": "code",
   "execution_count": 5,
   "metadata": {
    "collapsed": false
   },
   "outputs": [
    {
     "name": "stdout",
     "output_type": "stream",
     "text": [
      "ATM Option\nDaily Delta Hedger:\nAverage Cumulative PnL: $0.001\nStd Cumulative PnL: $4.212\nMax Abs Cumulative PnL: $20.647\n"
     ]
    },
    {
     "name": "stdout",
     "output_type": "stream",
     "text": [
      "\nTrader who only does Initial Hedge:\nAverage Cumulative PnL: $0.242\nStd Cumulative PnL: $12.189\nMax Abs Cumulative PnL: $58.662\n"
     ]
    },
    {
     "name": "stdout",
     "output_type": "stream",
     "text": [
      "\nTrader who Never Hedge:\nAverage Cumulative PnL: $-0.110\nStd Cumulative PnL: $23.496\nMax Abs Cumulative PnL: $122.120\n"
     ]
    }
   ],
   "source": [
    "def simulate_delta_hedge_pnl(num_trails, simulation_time, market_input, delta_hedging_initial_asset, hedging_method):\n",
    "    final_pnl_list = []\n",
    "    for _ in range(num_trails):\n",
    "        delta_hedging_trader = DeltaHedger('Agent', copy.deepcopy(delta_hedging_initial_asset))\n",
    "\n",
    "        # set up initial hedging\n",
    "        market = copy.deepcopy(market_input)\n",
    "        market.mark_current_value_to_record(0)\n",
    "        if hedging_method in ['daily_delta_hedging', 'initial_delta_hedging']:\n",
    "            delta_hedging_trader.generate_delta_hedging_plans(market)\n",
    "            delta_hedging_trader.trade(market, 0)\n",
    "        delta_hedging_trader.evaluate_holding_asset_values(market)\n",
    "        delta_hedging_trader.generate_performance_report(market, 0)\n",
    "\n",
    "        for time in range(1, simulation_time + 1):\n",
    "            market.evolve(time)\n",
    "            market.mark_current_value_to_record(time)\n",
    "            delta_hedging_trader.evaluate_holding_asset_values(market)\n",
    "            delta_hedging_trader.generate_performance_report(market, time)\n",
    "            if hedging_method in ['daily_delta_hedging']:\n",
    "                delta_hedging_trader.generate_delta_hedging_plans(market)\n",
    "                delta_hedging_trader.trade(market, time)\n",
    "\n",
    "        final_pnl_list.append(delta_hedging_trader.historical_performance[simulation_time].cumulative_pnl)\n",
    "    return final_pnl_list\n",
    "\n",
    "\n",
    "stock = StockGeometricBrownianMotion('stock_gbm', 100, -0.02 / 252, 0.2 / np.sqrt(252))\n",
    "option = EuropeanCallOption('option', [stock], 100, 10)\n",
    "market = Market([stock, option])\n",
    "\n",
    "delta_hedging_initial_asset = {'Cash': 10000, 'stock_gbm': 0, 'option': 10}\n",
    "\n",
    "delta_hedge_pnl = simulate_delta_hedge_pnl(3000, 10, market,\n",
    "                                           delta_hedging_initial_asset, 'daily_delta_hedging')\n",
    "print('ATM Option')\n",
    "print('Daily Delta Hedger:')\n",
    "print(f'Average Cumulative PnL: ${np.mean(delta_hedge_pnl):.3f}')\n",
    "print(f'Std Cumulative PnL: ${np.std(delta_hedge_pnl):.3f}')\n",
    "print(f'Max Abs Cumulative PnL: ${np.max(np.abs(delta_hedge_pnl)):.3f}')\n",
    "\n",
    "initial_delta_hedging_pnl = simulate_delta_hedge_pnl(3000, 10, market,\n",
    "                                                     delta_hedging_initial_asset, 'initial_delta_hedging')\n",
    "print('\\nTrader who only does Initial Hedge:')\n",
    "print(f'Average Cumulative PnL: ${np.mean(initial_delta_hedging_pnl):.3f}')\n",
    "print(f'Std Cumulative PnL: ${np.std(initial_delta_hedging_pnl):.3f}')\n",
    "print(f'Max Abs Cumulative PnL: ${np.max(np.abs(initial_delta_hedging_pnl)):.3f}')\n",
    "\n",
    "non_hedge_pnl = simulate_delta_hedge_pnl(3000, 10, market,\n",
    "                                         delta_hedging_initial_asset, 'no_delta_hedging')\n",
    "print('\\nTrader who Never Hedge:')\n",
    "print(f'Average Cumulative PnL: ${np.mean(non_hedge_pnl):.3f}')\n",
    "print(f'Std Cumulative PnL: ${np.std(non_hedge_pnl):.3f}')\n",
    "print(f'Max Abs Cumulative PnL: ${np.max(np.abs(non_hedge_pnl)):.3f}')"
   ]
  },
  {
   "cell_type": "markdown",
   "metadata": {},
   "source": [
    "According to simulation results, initial delta hedging can reduce the half of delta risk from an ATM option. Daily delta hedging can reduce 85% of delta risk. Delta hedging can also reduce tail risk significantly"
   ]
  },
  {
   "cell_type": "markdown",
   "metadata": {},
   "source": [
    "Then we do a similar simulation for OTM options and ATM options. We can compare how diffusion risk (std) and tail risk can reduce through delta hedging."
   ]
  },
  {
   "cell_type": "code",
   "execution_count": 7,
   "metadata": {},
   "outputs": [
    {
     "name": "stdout",
     "output_type": "stream",
     "text": [
      "OTM Option\nDaily Delta Hedger:\nAverage Cumulative PnL: $-0.033\nStd Cumulative PnL: $2.837\nMax Abs Cumulative PnL: $17.467\n"
     ]
    },
    {
     "name": "stdout",
     "output_type": "stream",
     "text": [
      "\nTrader who only does Initial Hedge:\nAverage Cumulative PnL: $0.016\nStd Cumulative PnL: $7.305\nMax Abs Cumulative PnL: $129.081\n"
     ]
    },
    {
     "name": "stdout",
     "output_type": "stream",
     "text": [
      "\nTrader who Never Hedge:\nAverage Cumulative PnL: $-0.070\nStd Cumulative PnL: $8.422\nMax Abs Cumulative PnL: $149.403\n"
     ]
    },
    {
     "name": "stdout",
     "output_type": "stream",
     "text": [
      "\n\nITM Option\nDaily Delta Hedger:\nAverage Cumulative PnL: $0.010\nStd Cumulative PnL: $2.491\nMax Abs Cumulative PnL: $19.785\n"
     ]
    },
    {
     "name": "stdout",
     "output_type": "stream",
     "text": [
      "\nTrader who only does Initial Hedge:\nAverage Cumulative PnL: $0.064\nStd Cumulative PnL: $6.113\nMax Abs Cumulative PnL: $60.406\n"
     ]
    },
    {
     "name": "stdout",
     "output_type": "stream",
     "text": [
      "\nTrader who Never Hedge:\nAverage Cumulative PnL: $-1.782\nStd Cumulative PnL: $35.332\nMax Abs Cumulative PnL: $128.488\n"
     ]
    }
   ],
   "source": [
    "stock = StockGeometricBrownianMotion('stock_gbm', 100, -0.02 / 252, 0.2 / np.sqrt(252))\n",
    "option = EuropeanCallOption('option', [stock], 105, 10)\n",
    "market = Market([stock, option])\n",
    "\n",
    "delta_hedging_initial_asset = {'Cash': 10000, 'stock_gbm': 0, 'option': 10}\n",
    "\n",
    "delta_hedge_pnl = simulate_delta_hedge_pnl(3000, 10, market,\n",
    "                                           delta_hedging_initial_asset, 'daily_delta_hedging')\n",
    "print('OTM Option')\n",
    "print('Daily Delta Hedger:')\n",
    "print(f'Average Cumulative PnL: ${np.mean(delta_hedge_pnl):.3f}')\n",
    "print(f'Std Cumulative PnL: ${np.std(delta_hedge_pnl):.3f}')\n",
    "print(f'Max Abs Cumulative PnL: ${np.max(np.abs(delta_hedge_pnl)):.3f}')\n",
    "\n",
    "initial_delta_hedging_pnl = simulate_delta_hedge_pnl(3000, 10, market,\n",
    "                                                     delta_hedging_initial_asset, 'initial_delta_hedging')\n",
    "print('\\nTrader who only does Initial Hedge:')\n",
    "print(f'Average Cumulative PnL: ${np.mean(initial_delta_hedging_pnl):.3f}')\n",
    "print(f'Std Cumulative PnL: ${np.std(initial_delta_hedging_pnl):.3f}')\n",
    "print(f'Max Abs Cumulative PnL: ${np.max(np.abs(initial_delta_hedging_pnl)):.3f}')\n",
    "\n",
    "non_hedge_pnl = simulate_delta_hedge_pnl(3000, 10, market,\n",
    "                                         delta_hedging_initial_asset, 'no_delta_hedging')\n",
    "print('\\nTrader who Never Hedge:')\n",
    "print(f'Average Cumulative PnL: ${np.mean(non_hedge_pnl):.3f}')\n",
    "print(f'Std Cumulative PnL: ${np.std(non_hedge_pnl):.3f}')\n",
    "print(f'Max Abs Cumulative PnL: ${np.max(np.abs(non_hedge_pnl)):.3f}')\n",
    "\n",
    "stock = StockGeometricBrownianMotion('stock_gbm', 100, -0.02 / 252, 0.2 / np.sqrt(252))\n",
    "option = EuropeanCallOption('option', [stock], 95, 10)\n",
    "market = Market([stock, option])\n",
    "\n",
    "delta_hedging_initial_asset = {'Cash': 10000, 'stock_gbm': 0, 'option': 10}\n",
    "\n",
    "delta_hedge_pnl = simulate_delta_hedge_pnl(3000, 10, market,\n",
    "                                           delta_hedging_initial_asset, 'daily_delta_hedging')\n",
    "print('\\n\\nITM Option')\n",
    "print('Daily Delta Hedger:')\n",
    "print(f'Average Cumulative PnL: ${np.mean(delta_hedge_pnl):.3f}')\n",
    "print(f'Std Cumulative PnL: ${np.std(delta_hedge_pnl):.3f}')\n",
    "print(f'Max Abs Cumulative PnL: ${np.max(np.abs(delta_hedge_pnl)):.3f}')\n",
    "\n",
    "initial_delta_hedging_pnl = simulate_delta_hedge_pnl(3000, 10, market,\n",
    "                                                     delta_hedging_initial_asset, 'initial_delta_hedging')\n",
    "print('\\nTrader who only does Initial Hedge:')\n",
    "print(f'Average Cumulative PnL: ${np.mean(initial_delta_hedging_pnl):.3f}')\n",
    "print(f'Std Cumulative PnL: ${np.std(initial_delta_hedging_pnl):.3f}')\n",
    "print(f'Max Abs Cumulative PnL: ${np.max(np.abs(initial_delta_hedging_pnl)):.3f}')\n",
    "\n",
    "non_hedge_pnl = simulate_delta_hedge_pnl(3000, 10, market,\n",
    "                                         delta_hedging_initial_asset, 'no_delta_hedging')\n",
    "print('\\nTrader who Never Hedge:')\n",
    "print(f'Average Cumulative PnL: ${np.mean(non_hedge_pnl):.3f}')\n",
    "print(f'Std Cumulative PnL: ${np.std(non_hedge_pnl):.3f}')\n",
    "print(f'Max Abs Cumulative PnL: ${np.max(np.abs(non_hedge_pnl)):.3f}')"
   ]
  },
  {
   "cell_type": "markdown",
   "metadata": {},
   "source": [
    "For OTM options, initial delta hedge helps little. This is intuitive become delta for OTM options is small. Initial delta hedge helps more for the ITM options."
   ]
  }
 ],
 "metadata": {
  "kernelspec": {
   "display_name": "Python 2",
   "language": "python",
   "name": "python2"
  },
  "language_info": {
   "codemirror_mode": {
    "name": "ipython",
    "version": 2
   },
   "file_extension": ".py",
   "mimetype": "text/x-python",
   "name": "python",
   "nbconvert_exporter": "python",
   "pygments_lexer": "ipython2",
   "version": "2.7.6"
  }
 },
 "nbformat": 4,
 "nbformat_minor": 0
}
