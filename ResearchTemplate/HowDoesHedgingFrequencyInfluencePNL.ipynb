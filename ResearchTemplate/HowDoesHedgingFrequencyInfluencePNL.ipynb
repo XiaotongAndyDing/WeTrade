{
 "cells": [
  {
   "cell_type": "code",
   "execution_count": 1,
   "metadata": {
    "collapsed": true
   },
   "outputs": [],
   "source": [
    "import sys\n",
    "import os\n",
    "import numpy as np\n",
    "import pandas as pd\n",
    "import matplotlib.pyplot as plt\n",
    "\n",
    "module_path = os.path.abspath(os.path.join('..'))\n",
    "\n",
    "if module_path not in sys.path:\n",
    "    sys.path.append(module_path+\"\\\\Source\")\n",
    "\n",
    "from Source.Agent import Agent, DeltaHedger\n",
    "from Source.Market import Market, StockGeometricBrownianMotion, EuropeanCallOption"
   ]
  },
  {
   "cell_type": "markdown",
   "metadata": {},
   "source": [
    "We create a Martingale GBM. We verify the process is a martingale by Monte Carlo Simulation. The initial stock price is 100, and we expect the average of stocks price  is  100 at T=100. We simulate 10000 times and calculate the average."
   ]
  },
  {
   "cell_type": "code",
   "execution_count": 2,
   "metadata": {},
   "outputs": [
    {
     "name": "stdout",
     "output_type": "stream",
     "text": [
      "Mean of stock final values: 99.740\nStd of stock final values: 12.555\n"
     ]
    }
   ],
   "source": [
    "final_stock_price_list = []\n",
    "for _ in range(10000):\n",
    "    stock = StockGeometricBrownianMotion('stock_gbm', 100, -0.02/252, 0.2 / np.sqrt(252))  # Martingale GBM\n",
    "    for time in range(1, 100):\n",
    "        stock.evolve(time)\n",
    "    final_stock_price_list.append(stock.current_value)\n",
    "print(f'Mean of stock final values: {np.mean(final_stock_price_list):.3f}')\n",
    "print(f'Std of stock final values: {np.std(final_stock_price_list):.3f}')"
   ]
  },
  {
   "cell_type": "markdown",
   "metadata": {},
   "source": [
    "Suppose the stock price follows a Martingale GBM process with annual volatility 20%. An option trader holds 10 ATM options with two weeks expiry. The trader decides to delta hedge her option positions everyday. We will use this example to illustrate her delta hedging process."
   ]
  },
  {
   "cell_type": "code",
   "execution_count": 4,
   "metadata": {},
   "outputs": [
    {
     "name": "stdout",
     "output_type": "stream",
     "text": [
      "\nTime= 0\nAgent: sell 5.0 stock_gbm, Cash + $500.000\nAgent, Holding:\nCash: $10500.0\nstock_gbm: -5.0 * $100.000 = $-500.000\noption: 10 * $1.589 = $15.893\nTotal: $10015.893\n\nTime= 1\nAgent, Holding:\nCash: $10500.0\nstock_gbm: -5.0 * $101.139 = $-505.697\noption: 10 * $2.154 = $21.536\nTotal: $10015.840\nAgent: sell 1.0 stock_gbm, Cash + $101.139\n\nTime= 2\nAgent, Holding:\nCash: $10601.139355794781\nstock_gbm: -6.0 * $100.707 = $-604.239\noption: 10 * $1.808 = $18.076\nTotal: $10014.976\n\nTime= 3\nAgent, Holding:\nCash: $10601.139355794781\nstock_gbm: -6.0 * $103.054 = $-618.325\noption: 10 * $3.392 = $33.924\nTotal: $10016.738\nAgent: sell 2.0 stock_gbm, Cash + $206.108\n\nTime= 4\nAgent, Holding:\nCash: $10807.247609155635\nstock_gbm: -8.0 * $105.860 = $-846.878\noption: 10 * $5.900 = $59.002\nTotal: $10019.371\nAgent: sell 2.0 stock_gbm, Cash + $211.720\n\nTime= 5\nAgent, Holding:\nCash: $11018.967121592948\nstock_gbm: -10.0 * $108.393 = $-1083.928\noption: 10 * $8.395 = $83.946\nTotal: $10018.985\n\nTime= 6\nAgent, Holding:\nCash: $11018.967121592948\nstock_gbm: -10.0 * $108.456 = $-1084.560\noption: 10 * $8.456 = $84.564\nTotal: $10018.972\n\nTime= 7\nAgent, Holding:\nCash: $11018.967121592948\nstock_gbm: -10.0 * $107.856 = $-1078.562\noption: 10 * $7.856 = $78.563\nTotal: $10018.969\n\nTime= 8\nAgent, Holding:\nCash: $11018.967121592948\nstock_gbm: -10.0 * $106.895 = $-1068.946\noption: 10 * $6.895 = $68.946\nTotal: $10018.968\n\nTime= 9\nAgent, Holding:\nCash: $11018.967121592948\nstock_gbm: -10.0 * $104.889 = $-1048.895\noption: 10 * $4.889 = $48.895\nTotal: $10018.967\n\nTime= 10\nAgent, Holding:\nCash: $11018.967121592948\nstock_gbm: -10.0 * $104.537 = $-1045.367\noption: 10 * $4.537 = $45.367\nTotal: $10018.967\nAgent: buy 10.0 stock_gbm, Cash - $1045.367\n\nEnd of Hedging\nAgent, Holding:\nCash: $9973.600377533035\nstock_gbm: 0.0 * $104.537 = $0.000\noption: 10 * $4.537 = $45.367\nTotal: $10018.967\n\nCumulative PnL: $3.074\n"
     ]
    }
   ],
   "source": [
    "stock = StockGeometricBrownianMotion('stock_gbm', 100, -0.02 / 252, 0.2 / np.sqrt(252))\n",
    "option = EuropeanCallOption('option', [stock], 100, 10)\n",
    "market = Market([stock, option])\n",
    "\n",
    "delta_hedging_initial_asset = {'Cash': 10000, 'stock_gbm': 0, 'option': 10}  # agent holds an option\n",
    "delta_hedging_trader = DeltaHedger('Agent', delta_hedging_initial_asset)\n",
    "\n",
    "# set up initial hedging\n",
    "print('\\nTime=', 0)\n",
    "market.mark_current_value_to_record(0)\n",
    "delta_hedging_trader.generate_delta_hedging_plans(market)\n",
    "delta_hedging_trader.trade(market, 0, print_log=True)\n",
    "delta_hedging_trader.evaluate_holding_asset_values(market, print_log=True)\n",
    "delta_hedging_trader.generate_performance_report(market, 0)\n",
    "\n",
    "for time in range(1, 11):\n",
    "    print('\\nTime=', time)\n",
    "    market.evolve(time)\n",
    "    market.mark_current_value_to_record(time)\n",
    "    delta_hedging_trader.evaluate_holding_asset_values(market, print_log=True)\n",
    "    delta_hedging_trader.generate_performance_report(market, time)\n",
    "    delta_hedging_trader.generate_delta_hedging_plans(market)\n",
    "    delta_hedging_trader.trade(market, time, print_log=True)\n",
    "\n",
    "print('\\nEnd of Hedging')\n",
    "delta_hedging_trader.evaluate_holding_asset_values(market, print_log=True)\n",
    "print(f'\\nCumulative PnL: ${delta_hedging_trader.historical_performance[10].cumulative_pnl:.3f}')"
   ]
  },
  {
   "cell_type": "markdown",
   "metadata": {},
   "source": [
    "We compare the pnl differences between 3 delta hedging strategy:\n",
    "1. Daily delta hedging\n",
    "2. Only initial hedging\n",
    "3. Non delta hedging"
   ]
  },
  {
   "cell_type": "code",
   "execution_count": 6,
   "metadata": {},
   "outputs": [
    {
     "name": "stdout",
     "output_type": "stream",
     "text": [
      "Daily Delta Hedger:\nAverage Cumulative PnL: $-0.080\nStd Cumulative PnL: $4.343\n"
     ]
    },
    {
     "name": "stdout",
     "output_type": "stream",
     "text": [
      "\nTrader who only does Initial Hedge:\nAverage Cumulative PnL: $-0.055\nStd Cumulative PnL: $4.429\n"
     ]
    },
    {
     "name": "stdout",
     "output_type": "stream",
     "text": [
      "\nTrader who Never Hedge:\nAverage Cumulative PnL: $-0.131\nStd Cumulative PnL: $23.465\n"
     ]
    }
   ],
   "source": [
    "def simulate_delta_hedge_pnl(num_trails):\n",
    "    final_pnl_list = []\n",
    "    for _ in range(num_trails):\n",
    "        stock = StockGeometricBrownianMotion('stock_gbm', 100, -0.02 / 252, 0.2 / np.sqrt(252))\n",
    "        option = EuropeanCallOption('option', [stock], 100, 10)\n",
    "        market = Market([stock, option])\n",
    "        \n",
    "        delta_hedging_initial_asset = {'Cash': 10000, 'stock_gbm': 0, 'option': 10}  # agent holds an option\n",
    "        delta_hedging_trader = DeltaHedger('Agent', delta_hedging_initial_asset)\n",
    "        \n",
    "        # set up initial hedging\n",
    "        market.mark_current_value_to_record(0)\n",
    "        delta_hedging_trader.generate_delta_hedging_plans(market)\n",
    "        delta_hedging_trader.trade(market, 0)\n",
    "        delta_hedging_trader.evaluate_holding_asset_values(market)\n",
    "        delta_hedging_trader.generate_performance_report(market, 0)\n",
    "        \n",
    "        for time in range(1, 11):\n",
    "            market.evolve(time)\n",
    "            market.mark_current_value_to_record(time)\n",
    "            delta_hedging_trader.evaluate_holding_asset_values(market)\n",
    "            delta_hedging_trader.generate_performance_report(market, time)\n",
    "            delta_hedging_trader.generate_delta_hedging_plans(market)\n",
    "            delta_hedging_trader.trade(market, time)\n",
    "        \n",
    "        final_pnl_list.append(delta_hedging_trader.historical_performance[10].cumulative_pnl)\n",
    "    return final_pnl_list\n",
    "\n",
    "\n",
    "def simulate_only_initial_delta_hedge_pnl(num_trails):\n",
    "    final_pnl_list = []\n",
    "    for _ in range(num_trails):\n",
    "        stock = StockGeometricBrownianMotion('stock_gbm', 100, -0.02 / 252, 0.2 / np.sqrt(252))\n",
    "        option = EuropeanCallOption('option', [stock], 100, 10)\n",
    "        market = Market([stock, option])\n",
    "        \n",
    "        delta_hedging_initial_asset = {'Cash': 10000, 'stock_gbm': 0, 'option': 10}  # agent holds an option\n",
    "        delta_hedging_trader = DeltaHedger('Agent', delta_hedging_initial_asset)\n",
    "        \n",
    "        # set up initial hedging\n",
    "        market.mark_current_value_to_record(0)\n",
    "        delta_hedging_trader.generate_delta_hedging_plans(market)\n",
    "        delta_hedging_trader.trade(market, 0)\n",
    "        delta_hedging_trader.evaluate_holding_asset_values(market)\n",
    "        delta_hedging_trader.generate_performance_report(market, 0)\n",
    "        \n",
    "        for time in range(1, 11):\n",
    "            market.evolve(time)\n",
    "            market.mark_current_value_to_record(time)\n",
    "            delta_hedging_trader.evaluate_holding_asset_values(market)\n",
    "            delta_hedging_trader.generate_performance_report(market, time)\n",
    "        \n",
    "        final_pnl_list.append(delta_hedging_trader.historical_performance[10].cumulative_pnl)\n",
    "    return final_pnl_list\n",
    "\n",
    "\n",
    "def simulate_non_hedging_pnl(num_trails):\n",
    "    final_pnl_list = []\n",
    "    for _ in range(num_trails):\n",
    "        stock = StockGeometricBrownianMotion('stock_gbm', 100, -0.02 / 252, 0.2 / np.sqrt(252))\n",
    "        option = EuropeanCallOption('option', [stock], 100, 10)\n",
    "        market = Market([stock, option])\n",
    "        \n",
    "        delta_hedging_initial_asset = {'Cash': 10000, 'stock_gbm': 0, 'option': 10}  # agent holds an option\n",
    "        delta_hedging_trader = DeltaHedger('Agent', delta_hedging_initial_asset)\n",
    "        \n",
    "        market.mark_current_value_to_record(0)\n",
    "        delta_hedging_trader.evaluate_holding_asset_values(market)\n",
    "        delta_hedging_trader.generate_performance_report(market, 0)\n",
    "        \n",
    "        for time in range(1, 11):\n",
    "            market.evolve(time)\n",
    "            market.mark_current_value_to_record(time)\n",
    "            delta_hedging_trader.evaluate_holding_asset_values(market)\n",
    "            delta_hedging_trader.generate_performance_report(market, time)\n",
    "        \n",
    "        final_pnl_list.append(delta_hedging_trader.historical_performance[10].cumulative_pnl)\n",
    "    return final_pnl_list\n",
    "\n",
    "\n",
    "delta_hedge_pnl = simulate_delta_hedge_pnl(num_trails=10000)\n",
    "print('Daily Delta Hedger:')\n",
    "print(f'Average Cumulative PnL: ${np.mean(delta_hedge_pnl):.3f}')\n",
    "print(f'Std Cumulative PnL: ${np.std(delta_hedge_pnl):.3f}')\n",
    "\n",
    "delta_hedge_pnl = simulate_delta_hedge_pnl(num_trails=10000)\n",
    "print('\\nTrader who only does Initial Hedge:')\n",
    "print(f'Average Cumulative PnL: ${np.mean(delta_hedge_pnl):.3f}')\n",
    "print(f'Std Cumulative PnL: ${np.std(delta_hedge_pnl):.3f}')\n",
    "\n",
    "non_hedge_pnl = simulate_non_hedging_pnl(num_trails=10000)\n",
    "print('\\nTrader who Never Hedge:')\n",
    "print(f'Average Cumulative PnL: ${np.mean(non_hedge_pnl):.3f}')\n",
    "print(f'Std Cumulative PnL: ${np.std(non_hedge_pnl):.3f}')"
   ]
  },
  {
   "cell_type": "markdown",
   "metadata": {},
   "source": [
    "According to simulation results, initial delta hedging can reduce the most of delta risk from an ATM option. When time to maturity goes smaller, ATM gamma gets greater. The delta hedging trader needs to hedge more frequently, in other words, hedging in intraday frequency. As a result, daily delta hedge can only reduce risk slightly from initial hedging."
   ]
  }
 ],
 "metadata": {
  "kernelspec": {
   "display_name": "Python 2",
   "language": "python",
   "name": "python2"
  },
  "language_info": {
   "codemirror_mode": {
    "name": "ipython",
    "version": 2
   },
   "file_extension": ".py",
   "mimetype": "text/x-python",
   "name": "python",
   "nbconvert_exporter": "python",
   "pygments_lexer": "ipython2",
   "version": "2.7.6"
  }
 },
 "nbformat": 4,
 "nbformat_minor": 0
}
