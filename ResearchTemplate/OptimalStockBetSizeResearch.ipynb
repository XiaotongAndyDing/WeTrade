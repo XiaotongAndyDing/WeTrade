{
 "cells": [
  {
   "cell_type": "code",
   "execution_count": 1,
   "metadata": {
    "collapsed": true
   },
   "outputs": [],
   "source": [
    "import sys\n",
    "import os\n",
    "import numpy as np\n",
    "import pandas as pd\n",
    "import matplotlib.pyplot as plt\n",
    "\n",
    "module_path = os.path.abspath(os.path.join('..'))\n",
    "\n",
    "if module_path not in sys.path:\n",
    "    sys.path.append(module_path+\"\\\\Source\")\n",
    "\n",
    "from Source.Market import Market, MockStockGeometricBrownianMotion\n",
    "from Source.Agent import Agent\n"
   ]
  },
  {
   "cell_type": "code",
   "execution_count": 2,
   "metadata": {},
   "outputs": [
    {
     "name": "stdout",
     "output_type": "stream",
     "text": [
      "Average Return:  0.000713\nReturn Std:  0.006978\nStrategy Sharpe Ratio:  0.102151\nMax Drawdown:  0.067331\n"
     ]
    }
   ],
   "source": [
    "initial_cash = 10000\n",
    "asset_test = {'Cash': initial_cash, 'Stock': 0}\n",
    "agent_test = Agent('agent_test', asset_test)\n",
    "\n",
    "stock_move_std = 0.01  # stock has daily volatility 1%\n",
    "observation_std = 0.01  # stock has observation error 1%\n",
    "\n",
    "# stock follow GBM with 0 drift and const daily volatility\n",
    "market_test = Market([MockStockGeometricBrownianMotion('Stock', 100, 0, stock_move_std)])\n",
    "market_test.mark_current_value_to_record(0)\n",
    "\n",
    "current_stock_value = market_test.check_value('Stock')\n",
    "predicted_value = market_test.check_prediction('Stock', observation_std)\n",
    "\n",
    "# Example Strategy\n",
    "agent_test._trading_intention = {'Stock': 10} if predicted_value > current_stock_value else {'Stock': -10}\n",
    "\n",
    "agent_test.trade(market_test, 0)\n",
    "agent_test.mark_holding_values(market_test, 0)\n",
    "\n",
    "for time in range(1, 252):  # 252 business days in a year\n",
    "    market_test.evolve(time)\n",
    "    market_test.mark_current_value_to_record(time)\n",
    "\n",
    "    current_stock_value = market_test.check_value('Stock')\n",
    "    predicted_value = market_test.check_prediction('Stock', observation_std)\n",
    "    \n",
    "    # Example Strategy\n",
    "    agent_test._trading_intention = {'Stock': 10} if predicted_value > current_stock_value else {'Stock': -10}\n",
    "    \n",
    "    agent_test.trade(market_test, time)\n",
    "    agent_test.mark_holding_values(market_test, time)\n",
    "\n",
    "print(f\"Average Return: {agent_test.calculate_average_return(): .6f}\")\n",
    "print(f\"Return Std: {agent_test.calculate_std_return(): .6f}\")\n",
    "print(f\"Strategy Sharpe Ratio: {agent_test.calculate_sharpe_ratio(): .6f}\")\n",
    "print(f\"Max Drawdown: {agent_test.calculate_max_drawdown() / initial_cash: .6f}\")\n"
   ]
  },
  {
   "cell_type": "markdown",
   "metadata": {},
   "source": [
    "Objective: Maximize Average Return\n",
    "\n",
    "Constraints: \n",
    "\t1. prob(Return Std > Return_Std_Limit) < small_number\n",
    "\t2. prob(Max Drawdown > Max_Drawdown_Limit) < small_number\n",
    "\n",
    "Example: Return_Std_Limit = 0.2, Max_Drawdown_Limit = 0.1, small_number = 0.05\n",
    "\n",
    "Research Proposal\n",
    "1. Constant observation_std, No Transaction Cost\n",
    "2. Random observation_std, observation_std follows a Gaussian Distribution but the agent knows the observation_std\n",
    "3. Transaction Cost"
   ]
  }
 ],
 "metadata": {
  "kernelspec": {
   "display_name": "Python 2",
   "language": "python",
   "name": "python2"
  },
  "language_info": {
   "codemirror_mode": {
    "name": "ipython",
    "version": 2
   },
   "file_extension": ".py",
   "mimetype": "text/x-python",
   "name": "python",
   "nbconvert_exporter": "python",
   "pygments_lexer": "ipython2",
   "version": "2.7.6"
  }
 },
 "nbformat": 4,
 "nbformat_minor": 0
}
